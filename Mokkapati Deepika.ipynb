{
 "cells": [
  {
   "cell_type": "code",
   "execution_count": 1,
   "id": "6719ad48",
   "metadata": {},
   "outputs": [],
   "source": [
    "# https://data.worldbank.org/indicator/AG.LND.FRST.K2"
   ]
  },
  {
   "cell_type": "code",
   "execution_count": 2,
   "id": "615e91be",
   "metadata": {},
   "outputs": [],
   "source": [
    "import warnings\n",
    "warnings.filterwarnings(\"ignore\")\n",
    "import pandas as pd\n",
    "import errors\n",
    "import scipy.optimize as opt\n",
    "import numpy as np\n",
    "from sklearn.cluster import KMeans\n",
    "from sklearn.preprocessing import StandardScaler\n",
    "import sklearn.metrics as skmet\n",
    "import matplotlib.pyplot as plt\n",
    "import seaborn as sns"
   ]
  },
  {
   "cell_type": "code",
   "execution_count": 3,
   "id": "39d8033f",
   "metadata": {},
   "outputs": [],
   "source": [
    "def worldbank_data(filename):\n",
    "    \"\"\"\n",
    "    Read World Bank data from a CSV file.\n",
    "\n",
    "    Args:\n",
    "    - filename: The path to the CSV file.\n",
    "\n",
    "    Returns:\n",
    "    - df: The original DataFrame.\n",
    "    - dft: Transposed DataFrame.\n",
    "    \"\"\"\n",
    "\n",
    "    df = pd.read_csv(filename, skiprows=4)\n",
    "    dft = df.transpose()\n",
    "    dft.columns = dft.iloc[0]\n",
    "    \n",
    "    return df, dft"
   ]
  },
  {
   "cell_type": "code",
   "execution_count": 4,
   "id": "72f8e866",
   "metadata": {},
   "outputs": [],
   "source": [
    "df, dft = worldbank_data('API_AG.LND.FRST.K2_DS2_en_csv_v2_6302271.csv')"
   ]
  },
  {
   "cell_type": "code",
   "execution_count": 5,
   "id": "f46c7dce",
   "metadata": {},
   "outputs": [
    {
     "data": {
      "text/html": [
       "<div>\n",
       "<style scoped>\n",
       "    .dataframe tbody tr th:only-of-type {\n",
       "        vertical-align: middle;\n",
       "    }\n",
       "\n",
       "    .dataframe tbody tr th {\n",
       "        vertical-align: top;\n",
       "    }\n",
       "\n",
       "    .dataframe thead th {\n",
       "        text-align: right;\n",
       "    }\n",
       "</style>\n",
       "<table border=\"1\" class=\"dataframe\">\n",
       "  <thead>\n",
       "    <tr style=\"text-align: right;\">\n",
       "      <th></th>\n",
       "      <th>Country Name</th>\n",
       "      <th>Country Code</th>\n",
       "      <th>Indicator Name</th>\n",
       "      <th>Indicator Code</th>\n",
       "      <th>1960</th>\n",
       "      <th>1961</th>\n",
       "      <th>1962</th>\n",
       "      <th>1963</th>\n",
       "      <th>1964</th>\n",
       "      <th>1965</th>\n",
       "      <th>...</th>\n",
       "      <th>2014</th>\n",
       "      <th>2015</th>\n",
       "      <th>2016</th>\n",
       "      <th>2017</th>\n",
       "      <th>2018</th>\n",
       "      <th>2019</th>\n",
       "      <th>2020</th>\n",
       "      <th>2021</th>\n",
       "      <th>2022</th>\n",
       "      <th>Unnamed: 67</th>\n",
       "    </tr>\n",
       "  </thead>\n",
       "  <tbody>\n",
       "    <tr>\n",
       "      <th>0</th>\n",
       "      <td>Aruba</td>\n",
       "      <td>ABW</td>\n",
       "      <td>Forest area (sq. km)</td>\n",
       "      <td>AG.LND.FRST.K2</td>\n",
       "      <td>NaN</td>\n",
       "      <td>NaN</td>\n",
       "      <td>NaN</td>\n",
       "      <td>NaN</td>\n",
       "      <td>NaN</td>\n",
       "      <td>NaN</td>\n",
       "      <td>...</td>\n",
       "      <td>4.20</td>\n",
       "      <td>4.2</td>\n",
       "      <td>4.200</td>\n",
       "      <td>4.2</td>\n",
       "      <td>4.20</td>\n",
       "      <td>4.2</td>\n",
       "      <td>4.2</td>\n",
       "      <td>4.200</td>\n",
       "      <td>NaN</td>\n",
       "      <td>NaN</td>\n",
       "    </tr>\n",
       "    <tr>\n",
       "      <th>1</th>\n",
       "      <td>Africa Eastern and Southern</td>\n",
       "      <td>AFE</td>\n",
       "      <td>Forest area (sq. km)</td>\n",
       "      <td>AG.LND.FRST.K2</td>\n",
       "      <td>NaN</td>\n",
       "      <td>NaN</td>\n",
       "      <td>NaN</td>\n",
       "      <td>NaN</td>\n",
       "      <td>NaN</td>\n",
       "      <td>NaN</td>\n",
       "      <td>...</td>\n",
       "      <td>4671832.12</td>\n",
       "      <td>4640642.5</td>\n",
       "      <td>4607876.100</td>\n",
       "      <td>4575901.2</td>\n",
       "      <td>4544314.78</td>\n",
       "      <td>4511676.2</td>\n",
       "      <td>4479395.0</td>\n",
       "      <td>4446875.546</td>\n",
       "      <td>NaN</td>\n",
       "      <td>NaN</td>\n",
       "    </tr>\n",
       "    <tr>\n",
       "      <th>2</th>\n",
       "      <td>Afghanistan</td>\n",
       "      <td>AFG</td>\n",
       "      <td>Forest area (sq. km)</td>\n",
       "      <td>AG.LND.FRST.K2</td>\n",
       "      <td>NaN</td>\n",
       "      <td>NaN</td>\n",
       "      <td>NaN</td>\n",
       "      <td>NaN</td>\n",
       "      <td>NaN</td>\n",
       "      <td>NaN</td>\n",
       "      <td>...</td>\n",
       "      <td>12084.40</td>\n",
       "      <td>12084.4</td>\n",
       "      <td>12084.400</td>\n",
       "      <td>12084.4</td>\n",
       "      <td>12084.40</td>\n",
       "      <td>12084.4</td>\n",
       "      <td>12084.4</td>\n",
       "      <td>12084.400</td>\n",
       "      <td>NaN</td>\n",
       "      <td>NaN</td>\n",
       "    </tr>\n",
       "    <tr>\n",
       "      <th>3</th>\n",
       "      <td>Africa Western and Central</td>\n",
       "      <td>AFW</td>\n",
       "      <td>Forest area (sq. km)</td>\n",
       "      <td>AG.LND.FRST.K2</td>\n",
       "      <td>NaN</td>\n",
       "      <td>NaN</td>\n",
       "      <td>NaN</td>\n",
       "      <td>NaN</td>\n",
       "      <td>NaN</td>\n",
       "      <td>NaN</td>\n",
       "      <td>...</td>\n",
       "      <td>1838300.32</td>\n",
       "      <td>1830344.0</td>\n",
       "      <td>1822960.779</td>\n",
       "      <td>1815608.1</td>\n",
       "      <td>1807898.60</td>\n",
       "      <td>1800220.1</td>\n",
       "      <td>1792580.7</td>\n",
       "      <td>1784915.233</td>\n",
       "      <td>NaN</td>\n",
       "      <td>NaN</td>\n",
       "    </tr>\n",
       "    <tr>\n",
       "      <th>4</th>\n",
       "      <td>Angola</td>\n",
       "      <td>AGO</td>\n",
       "      <td>Forest area (sq. km)</td>\n",
       "      <td>AG.LND.FRST.K2</td>\n",
       "      <td>NaN</td>\n",
       "      <td>NaN</td>\n",
       "      <td>NaN</td>\n",
       "      <td>NaN</td>\n",
       "      <td>NaN</td>\n",
       "      <td>NaN</td>\n",
       "      <td>...</td>\n",
       "      <td>699377.52</td>\n",
       "      <td>693826.9</td>\n",
       "      <td>688276.200</td>\n",
       "      <td>682725.7</td>\n",
       "      <td>677175.10</td>\n",
       "      <td>671624.4</td>\n",
       "      <td>666073.8</td>\n",
       "      <td>660523.133</td>\n",
       "      <td>NaN</td>\n",
       "      <td>NaN</td>\n",
       "    </tr>\n",
       "  </tbody>\n",
       "</table>\n",
       "<p>5 rows × 68 columns</p>\n",
       "</div>"
      ],
      "text/plain": [
       "                  Country Name Country Code        Indicator Name  \\\n",
       "0                        Aruba          ABW  Forest area (sq. km)   \n",
       "1  Africa Eastern and Southern          AFE  Forest area (sq. km)   \n",
       "2                  Afghanistan          AFG  Forest area (sq. km)   \n",
       "3   Africa Western and Central          AFW  Forest area (sq. km)   \n",
       "4                       Angola          AGO  Forest area (sq. km)   \n",
       "\n",
       "   Indicator Code  1960  1961  1962  1963  1964  1965  ...        2014  \\\n",
       "0  AG.LND.FRST.K2   NaN   NaN   NaN   NaN   NaN   NaN  ...        4.20   \n",
       "1  AG.LND.FRST.K2   NaN   NaN   NaN   NaN   NaN   NaN  ...  4671832.12   \n",
       "2  AG.LND.FRST.K2   NaN   NaN   NaN   NaN   NaN   NaN  ...    12084.40   \n",
       "3  AG.LND.FRST.K2   NaN   NaN   NaN   NaN   NaN   NaN  ...  1838300.32   \n",
       "4  AG.LND.FRST.K2   NaN   NaN   NaN   NaN   NaN   NaN  ...   699377.52   \n",
       "\n",
       "        2015         2016       2017        2018       2019       2020  \\\n",
       "0        4.2        4.200        4.2        4.20        4.2        4.2   \n",
       "1  4640642.5  4607876.100  4575901.2  4544314.78  4511676.2  4479395.0   \n",
       "2    12084.4    12084.400    12084.4    12084.40    12084.4    12084.4   \n",
       "3  1830344.0  1822960.779  1815608.1  1807898.60  1800220.1  1792580.7   \n",
       "4   693826.9   688276.200   682725.7   677175.10   671624.4   666073.8   \n",
       "\n",
       "          2021  2022  Unnamed: 67  \n",
       "0        4.200   NaN          NaN  \n",
       "1  4446875.546   NaN          NaN  \n",
       "2    12084.400   NaN          NaN  \n",
       "3  1784915.233   NaN          NaN  \n",
       "4   660523.133   NaN          NaN  \n",
       "\n",
       "[5 rows x 68 columns]"
      ]
     },
     "execution_count": 5,
     "metadata": {},
     "output_type": "execute_result"
    }
   ],
   "source": [
    "df.head()"
   ]
  },
  {
   "cell_type": "code",
   "execution_count": 15,
   "id": "bb7b0c6f",
   "metadata": {},
   "outputs": [
    {
     "data": {
      "text/html": [
       "<div>\n",
       "<style scoped>\n",
       "    .dataframe tbody tr th:only-of-type {\n",
       "        vertical-align: middle;\n",
       "    }\n",
       "\n",
       "    .dataframe tbody tr th {\n",
       "        vertical-align: top;\n",
       "    }\n",
       "\n",
       "    .dataframe thead th {\n",
       "        text-align: right;\n",
       "    }\n",
       "</style>\n",
       "<table border=\"1\" class=\"dataframe\">\n",
       "  <thead>\n",
       "    <tr style=\"text-align: right;\">\n",
       "      <th></th>\n",
       "      <th>Country Name</th>\n",
       "      <th>2021</th>\n",
       "    </tr>\n",
       "  </thead>\n",
       "  <tbody>\n",
       "    <tr>\n",
       "      <th>0</th>\n",
       "      <td>Aruba</td>\n",
       "      <td>4.200</td>\n",
       "    </tr>\n",
       "    <tr>\n",
       "      <th>1</th>\n",
       "      <td>Africa Eastern and Southern</td>\n",
       "      <td>4446875.546</td>\n",
       "    </tr>\n",
       "    <tr>\n",
       "      <th>2</th>\n",
       "      <td>Afghanistan</td>\n",
       "      <td>12084.400</td>\n",
       "    </tr>\n",
       "    <tr>\n",
       "      <th>3</th>\n",
       "      <td>Africa Western and Central</td>\n",
       "      <td>1784915.233</td>\n",
       "    </tr>\n",
       "    <tr>\n",
       "      <th>4</th>\n",
       "      <td>Angola</td>\n",
       "      <td>660523.133</td>\n",
       "    </tr>\n",
       "  </tbody>\n",
       "</table>\n",
       "</div>"
      ],
      "text/plain": [
       "                  Country Name         2021\n",
       "0                        Aruba        4.200\n",
       "1  Africa Eastern and Southern  4446875.546\n",
       "2                  Afghanistan    12084.400\n",
       "3   Africa Western and Central  1784915.233\n",
       "4                       Angola   660523.133"
      ]
     },
     "execution_count": 15,
     "metadata": {},
     "output_type": "execute_result"
    }
   ],
   "source": [
    "sub = df[['Country Name', 'Indicator Name'] + list(map(str, range(2001, 2022)))]\n",
    "sub = sub.dropna()\n",
    "subx = sub[[\"Country Name\", \"2021\"]].copy()\n",
    "subx.head()"
   ]
  },
  {
   "cell_type": "code",
   "execution_count": 16,
   "id": "293b74c5",
   "metadata": {},
   "outputs": [
    {
     "data": {
      "text/html": [
       "<div>\n",
       "<style scoped>\n",
       "    .dataframe tbody tr th:only-of-type {\n",
       "        vertical-align: middle;\n",
       "    }\n",
       "\n",
       "    .dataframe tbody tr th {\n",
       "        vertical-align: top;\n",
       "    }\n",
       "\n",
       "    .dataframe thead th {\n",
       "        text-align: right;\n",
       "    }\n",
       "</style>\n",
       "<table border=\"1\" class=\"dataframe\">\n",
       "  <thead>\n",
       "    <tr style=\"text-align: right;\">\n",
       "      <th></th>\n",
       "      <th>2021</th>\n",
       "      <th>Growth</th>\n",
       "    </tr>\n",
       "  </thead>\n",
       "  <tbody>\n",
       "    <tr>\n",
       "      <th>count</th>\n",
       "      <td>2.560000e+02</td>\n",
       "      <td>252.000000</td>\n",
       "    </tr>\n",
       "    <tr>\n",
       "      <th>mean</th>\n",
       "      <td>1.650154e+06</td>\n",
       "      <td>-0.885994</td>\n",
       "    </tr>\n",
       "    <tr>\n",
       "      <th>std</th>\n",
       "      <td>4.969469e+06</td>\n",
       "      <td>13.830658</td>\n",
       "    </tr>\n",
       "    <tr>\n",
       "      <th>min</th>\n",
       "      <td>0.000000e+00</td>\n",
       "      <td>-45.321846</td>\n",
       "    </tr>\n",
       "    <tr>\n",
       "      <th>25%</th>\n",
       "      <td>3.402075e+03</td>\n",
       "      <td>-7.489098</td>\n",
       "    </tr>\n",
       "    <tr>\n",
       "      <th>50%</th>\n",
       "      <td>3.647825e+04</td>\n",
       "      <td>0.000000</td>\n",
       "    </tr>\n",
       "    <tr>\n",
       "      <th>75%</th>\n",
       "      <td>2.830655e+05</td>\n",
       "      <td>4.173824</td>\n",
       "    </tr>\n",
       "    <tr>\n",
       "      <th>max</th>\n",
       "      <td>4.044947e+07</td>\n",
       "      <td>87.012987</td>\n",
       "    </tr>\n",
       "  </tbody>\n",
       "</table>\n",
       "</div>"
      ],
      "text/plain": [
       "               2021      Growth\n",
       "count  2.560000e+02  252.000000\n",
       "mean   1.650154e+06   -0.885994\n",
       "std    4.969469e+06   13.830658\n",
       "min    0.000000e+00  -45.321846\n",
       "25%    3.402075e+03   -7.489098\n",
       "50%    3.647825e+04    0.000000\n",
       "75%    2.830655e+05    4.173824\n",
       "max    4.044947e+07   87.012987"
      ]
     },
     "execution_count": 16,
     "metadata": {},
     "output_type": "execute_result"
    }
   ],
   "source": [
    "subx[\"Growth\"] = 100.0 * (sub[\"2021\"] - sub[\"2001\"]) / (sub[\"2001\"])\n",
    "subx.describe()"
   ]
  },
  {
   "cell_type": "code",
   "execution_count": 18,
   "id": "00fd5b0d",
   "metadata": {},
   "outputs": [],
   "source": [
    "def remove_outliers(data_frame, column_names):\n",
    "    \"\"\"\n",
    "    Remove outliers from specified columns in the DataFrame.\n",
    "\n",
    "    Returns:\n",
    "    - Dataframe with outliers removed.\n",
    "    \"\"\"\n",
    "    Q1 = data_frame[column_names].quantile(0.25)\n",
    "    Q3 = data_frame[column_names].quantile(0.75)\n",
    "    IQR = Q3 - Q1\n",
    "    lower_bound = Q1 - 1.5 * IQR\n",
    "    upper_bound = Q3 + 1.5 * IQR\n",
    "    cleaned_data = data_frame[~((data_frame[column_names] < lower_bound) | (data_frame[column_names] > upper_bound)).any(axis=1)]\n",
    "    return cleaned_data\n",
    "\n",
    "subx = remove_outliers(subx, [\"2021\", \"Growth\"])"
   ]
  },
  {
   "cell_type": "code",
   "execution_count": 27,
   "id": "7dd3e59a",
   "metadata": {},
   "outputs": [],
   "source": [
    "subx = subx.dropna()"
   ]
  },
  {
   "cell_type": "code",
   "execution_count": 28,
   "id": "0b584e13",
   "metadata": {},
   "outputs": [
    {
     "data": {
      "image/png": "[encoded data removed]",
      "text/plain": [
       "<Figure size 576x360 with 1 Axes>"
      ]
     },
     "metadata": {
      "needs_background": "light"
     },
     "output_type": "display_data"
    }
   ],
   "source": [
    "plt.figure(figsize=(8, 5))\n",
    "scatter_plot = plt.scatter(subx[\"2021\"], subx[\"Growth\"], 20, label=\"Countries\", c = 'red')\n",
    "plt.xlabel(\"Forest area (sq. km) in 2021\")\n",
    "plt.ylabel(\"Growth (%) Since 2001\")\n",
    "plt.title(\"Forest area (sq. km) in 2021 vs. Growth (%) Since 2001\")\n",
    "plt.legend()\n",
    "plt.show()"
   ]
  },
  {
   "cell_type": "code",
   "execution_count": 29,
   "id": "ecb831d9",
   "metadata": {},
   "outputs": [],
   "source": [
    "def normalize_data(data_frame, features):\n",
    "    \"\"\"\n",
    "    Function to normalize the specified features using StandardScaler.\n",
    "    \n",
    "    \"\"\"\n",
    "    scaler = StandardScaler()\n",
    "    subset_features = data_frame[features]\n",
    "    scaler.fit(subset_features)\n",
    "    normalized_data = scaler.transform(subset_features)\n",
    "    normalized_df = pd.DataFrame(normalized_data, columns=features)\n",
    "\n",
    "    return normalized_df, scaler\n",
    "\n",
    "norm, scaler = normalize_data(subx, ['2021', 'Growth'])"
   ]
  },
  {
   "cell_type": "code",
   "execution_count": 36,
   "id": "30c44c6f",
   "metadata": {},
   "outputs": [],
   "source": [
    "def silhouette_score(xy, n):\n",
    "    \"\"\"\n",
    "    Calculates silhouette score.\n",
    "\n",
    "    Returns:\n",
    "    Silhouette score.\n",
    "    \"\"\"\n",
    "    kmeans = KMeans(n_clusters=n, init='k-means++', n_init=20)\n",
    "    kmeans.fit(xy)\n",
    "    labels = kmeans.labels_\n",
    "    score = skmet.silhouette_score(xy, labels)\n",
    "    return score"
   ]
  },
  {
   "cell_type": "code",
   "execution_count": 37,
   "id": "aadfc39a",
   "metadata": {},
   "outputs": [
    {
     "name": "stdout",
     "output_type": "stream",
     "text": [
      "The silhouette score for   2 is  0.4538\n",
      "The silhouette score for   3 is  0.4515\n",
      "The silhouette score for   4 is  0.4604\n",
      "The silhouette score for   5 is  0.5044\n",
      "The silhouette score for   6 is  0.5105\n",
      "The silhouette score for   7 is  0.4731\n",
      "The silhouette score for   8 is  0.5176\n",
      "The silhouette score for   9 is  0.4829\n",
      "The silhouette score for  10 is  0.4912\n",
      "The silhouette score for  11 is  0.4620\n",
      "The silhouette score for  12 is  0.4813\n",
      "The silhouette score for  13 is  0.4747\n",
      "The silhouette score for  14 is  0.4664\n"
     ]
    }
   ],
   "source": [
    "for i in range(2, 15):\n",
    "    score = silhouette_score(norm, i)\n",
    "    print(f\"The silhouette score for {i: 3d} is {score: 7.4f}\")"
   ]
  },
  {
   "cell_type": "code",
   "execution_count": 39,
   "id": "21f734e7",
   "metadata": {},
   "outputs": [],
   "source": [
    "kmeans = KMeans(n_clusters=3, init='k-means++', n_init=20)\n",
    "kmeans.fit(norm)\n",
    "labels = kmeans.labels_\n",
    "centroids = scaler.inverse_transform(kmeans.cluster_centers_)\n",
    "xkmeans, ykmeans = centroids[:, 0], centroids[:, 1]"
   ]
  },
  {
   "cell_type": "code",
   "execution_count": 48,
   "id": "69f44a1b",
   "metadata": {},
   "outputs": [
    {
     "data": {
      "image/png": "[encoded data removed]",
      "text/plain": [
       "<Figure size 576x360 with 1 Axes>"
      ]
     },
     "metadata": {
      "needs_background": "light"
     },
     "output_type": "display_data"
    }
   ],
   "source": [
    "plt.figure(figsize=(8, 5))\n",
    "sns.scatterplot(x=subx[\"2021\"], y=subx[\"Growth\"], hue=labels, palette=\"Set2\", s=30)\n",
    "plt.scatter(xkmeans, ykmeans, marker=\"x\", c=\"black\", s=50)\n",
    "plt.xlabel(\"Forest area (sq. km) in 2021\")\n",
    "plt.ylabel(\"Growth (%) Since 2001\")\n",
    "plt.title(\"Forest area (sq. km) in 2021 vs. Growth (%) Since 2001\")\n",
    "plt.legend()\n",
    "plt.show()"
   ]
  },
  {
   "cell_type": "code",
   "execution_count": 58,
   "id": "1b8d2f9d",
   "metadata": {},
   "outputs": [
    {
     "data": {
      "text/html": [
       "<div>\n",
       "<style scoped>\n",
       "    .dataframe tbody tr th:only-of-type {\n",
       "        vertical-align: middle;\n",
       "    }\n",
       "\n",
       "    .dataframe tbody tr th {\n",
       "        vertical-align: top;\n",
       "    }\n",
       "\n",
       "    .dataframe thead th {\n",
       "        text-align: right;\n",
       "    }\n",
       "</style>\n",
       "<table border=\"1\" class=\"dataframe\">\n",
       "  <thead>\n",
       "    <tr style=\"text-align: right;\">\n",
       "      <th>Country Name</th>\n",
       "      <th>Year</th>\n",
       "      <th>Forest area (sq. km)</th>\n",
       "    </tr>\n",
       "  </thead>\n",
       "  <tbody>\n",
       "    <tr>\n",
       "      <th>count</th>\n",
       "      <td>30.000000</td>\n",
       "      <td>3.000000e+01</td>\n",
       "    </tr>\n",
       "    <tr>\n",
       "      <th>mean</th>\n",
       "      <td>2006.500000</td>\n",
       "      <td>4.118018e+07</td>\n",
       "    </tr>\n",
       "    <tr>\n",
       "      <th>std</th>\n",
       "      <td>8.803408</td>\n",
       "      <td>4.696515e+05</td>\n",
       "    </tr>\n",
       "    <tr>\n",
       "      <th>min</th>\n",
       "      <td>1992.000000</td>\n",
       "      <td>4.044947e+07</td>\n",
       "    </tr>\n",
       "    <tr>\n",
       "      <th>25%</th>\n",
       "      <td>1999.250000</td>\n",
       "      <td>4.080500e+07</td>\n",
       "    </tr>\n",
       "    <tr>\n",
       "      <th>50%</th>\n",
       "      <td>2006.500000</td>\n",
       "      <td>4.115416e+07</td>\n",
       "    </tr>\n",
       "    <tr>\n",
       "      <th>75%</th>\n",
       "      <td>2013.750000</td>\n",
       "      <td>4.151248e+07</td>\n",
       "    </tr>\n",
       "    <tr>\n",
       "      <th>max</th>\n",
       "      <td>2021.000000</td>\n",
       "      <td>4.203424e+07</td>\n",
       "    </tr>\n",
       "  </tbody>\n",
       "</table>\n",
       "</div>"
      ],
      "text/plain": [
       "Country Name         Year  Forest area (sq. km)\n",
       "count           30.000000          3.000000e+01\n",
       "mean          2006.500000          4.118018e+07\n",
       "std              8.803408          4.696515e+05\n",
       "min           1992.000000          4.044947e+07\n",
       "25%           1999.250000          4.080500e+07\n",
       "50%           2006.500000          4.115416e+07\n",
       "75%           2013.750000          4.151248e+07\n",
       "max           2021.000000          4.203424e+07"
      ]
     },
     "execution_count": 58,
     "metadata": {},
     "output_type": "execute_result"
    }
   ],
   "source": [
    "world = dft.loc['1960':'2022', ['World']].reset_index().rename(columns={'index': 'Year', 'World': 'Forest area (sq. km)'})\n",
    "world = world.apply(pd.to_numeric, errors='coerce')\n",
    "world = world.dropna()\n",
    "world.describe()"
   ]
  },
  {
   "cell_type": "code",
   "execution_count": 59,
   "id": "56df1163",
   "metadata": {},
   "outputs": [
    {
     "data": {
      "image/png": "[encoded data removed]",
      "text/plain": [
       "<Figure size 576x360 with 1 Axes>"
      ]
     },
     "metadata": {
      "needs_background": "light"
     },
     "output_type": "display_data"
    }
   ],
   "source": [
    "plt.figure(figsize=(8, 5))\n",
    "sns.lineplot(data=world, x='Year', y='Forest area (sq. km)', color = 'black')\n",
    "plt.xlabel(\"Year\")\n",
    "plt.ylabel(\"Global Forest area (sq. km)\")\n",
    "plt.title(\"Global Forest area (sq. km) between 1960-2022\")\n",
    "plt.show()"
   ]
  },
  {
   "cell_type": "code",
   "execution_count": 64,
   "id": "fe209cb2",
   "metadata": {},
   "outputs": [],
   "source": [
    "def exponential(t, n0, g):\n",
    "    \"\"\"Calculates exponential function with scale factor n0 and growth rate g.\"\"\"\n",
    "    # makes it easier to get a guess for initial parameters\n",
    "    t = t - 1990\n",
    "    f = n0 * np.exp(g*t)\n",
    "    return f"
   ]
  },
  {
   "cell_type": "code",
   "execution_count": 70,
   "id": "de513510",
   "metadata": {},
   "outputs": [
    {
     "data": {
      "image/png": "[encoded data removed]",
      "text/plain": [
       "<Figure size 576x360 with 1 Axes>"
      ]
     },
     "metadata": {
      "needs_background": "light"
     },
     "output_type": "display_data"
    }
   ],
   "source": [
    "param, covar = opt.curve_fit(exponential, world[\"Year\"], world[\"Forest area (sq. km)\"], p0=(1e7, 0.1))\n",
    "world[\"fit\"] = exponential(world[\"Year\"], *param)\n",
    "plt.figure(figsize=(8, 5))\n",
    "sns.lineplot(data=world, x=\"Year\", y=\"Forest area (sq. km)\", label=\"Forest area (sq. km)\")\n",
    "sns.lineplot(data=world, x=\"Year\", y=\"fit\", label=\"Exponential Fit\")\n",
    "plt.xlabel(\"Year\")\n",
    "plt.ylabel(\"Global Forest area (sq. km)\")\n",
    "plt.title(\"Global Forest area (sq. km) between 1990-2022\")\n",
    "plt.legend()\n",
    "plt.show()"
   ]
  },
  {
   "cell_type": "code",
   "execution_count": 68,
   "id": "38d06dcd",
   "metadata": {},
   "outputs": [],
   "source": [
    "years = np.arange(2021, 2032, 1)\n",
    "predictions = exponential(years, *param)\n",
    "confidence_range = errors.error_prop(years, exponential, param, covar)"
   ]
  },
  {
   "cell_type": "code",
   "execution_count": 71,
   "id": "6411f2f8",
   "metadata": {},
   "outputs": [
    {
     "data": {
      "image/png": "[encoded data removed]",
      "text/plain": [
       "<Figure size 576x360 with 1 Axes>"
      ]
     },
     "metadata": {
      "needs_background": "light"
     },
     "output_type": "display_data"
    }
   ],
   "source": [
    "plt.figure(figsize=(8, 5))\n",
    "sns.lineplot(x= world[\"Year\"], y= world[\"Forest area (sq. km)\"], label=\"Forest area (sq. km)\")\n",
    "sns.lineplot(x=years, y=predictions, label=\"Prediction\", color='red')\n",
    "plt.fill_between(years, predictions - confidence_range, predictions + confidence_range, color='green', alpha=0.4, label=\"Confidence Range\")\n",
    "plt.xlabel(\"Year\")\n",
    "plt.ylabel(\"Global Forest area (sq. km)\")\n",
    "plt.title(\"Global Forest area (sq. km) between 1990-2030\")\n",
    "plt.legend()\n",
    "plt.show()"
   ]
  },
  {
   "cell_type": "code",
   "execution_count": null,
   "id": "e3e2b4e5",
   "metadata": {},
   "outputs": [],
   "source": []
  }
 ],
 "metadata": {
  "kernelspec": {
   "display_name": "Python 3 (ipykernel)",
   "language": "python",
   "name": "python3"
  },
  "language_info": {
   "codemirror_mode": {
    "name": "ipython",
    "version": 3
   },
   "file_extension": ".py",
   "mimetype": "text/x-python",
   "name": "python",
   "nbconvert_exporter": "python",
   "pygments_lexer": "ipython3",
   "version": "3.11.5"
  }
 },
 "nbformat": 4,
 "nbformat_minor": 5
}
